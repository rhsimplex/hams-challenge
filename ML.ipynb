{
 "cells": [
  {
   "cell_type": "code",
   "execution_count": 93,
   "metadata": {
    "collapsed": true
   },
   "outputs": [],
   "source": [
    "%matplotlib inline\n",
    "\n",
    "from sklearn.pipeline import Pipeline\n",
    "from sklearn.preprocessing import StandardScaler\n",
    "from sklearn.linear_model import LinearRegression, SGDRegressor\n",
    "from sklearn.ensemble import AdaBoostRegressor\n",
    "from sklearn.model_selection import train_test_split\n",
    "from sklearn.metrics import mean_absolute_error, r2_score\n",
    "\n",
    "import numpy as np\n",
    "\n",
    "import seaborn as sns\n",
    "\n",
    "import pandas as pd"
   ]
  },
  {
   "cell_type": "code",
   "execution_count": 56,
   "metadata": {
    "collapsed": true
   },
   "outputs": [],
   "source": [
    "df = pd.read_csv('sample.csv')\n",
    "df = df[(df.para1 < 300)]"
   ]
  },
  {
   "cell_type": "code",
   "execution_count": 57,
   "metadata": {
    "collapsed": false
   },
   "outputs": [],
   "source": [
    "X_df = df[['para1', 'para2', 'para3', 'para4']]\n",
    "y_df = df['price']"
   ]
  },
  {
   "cell_type": "code",
   "execution_count": 58,
   "metadata": {
    "collapsed": true
   },
   "outputs": [],
   "source": [
    "X, X_test, y, y_test = train_test_split(X_df.values, y_df.values)"
   ]
  },
  {
   "cell_type": "code",
   "execution_count": 59,
   "metadata": {
    "collapsed": false
   },
   "outputs": [],
   "source": [
    "scaler = StandardScaler()\n",
    "linear_regerssor = LinearRegression()\n",
    "sgd_regressor = SGDRegressor()"
   ]
  },
  {
   "cell_type": "code",
   "execution_count": 60,
   "metadata": {
    "collapsed": false
   },
   "outputs": [],
   "source": [
    "pipeline_linear = Pipeline([('scale', scaler), ('linear_regression', linear_regerssor)])"
   ]
  },
  {
   "cell_type": "code",
   "execution_count": 61,
   "metadata": {
    "collapsed": false
   },
   "outputs": [
    {
     "data": {
      "text/plain": [
       "Pipeline(steps=[('scale', StandardScaler(copy=True, with_mean=True, with_std=True)), ('linear_regression', LinearRegression(copy_X=True, fit_intercept=True, n_jobs=1, normalize=False))])"
      ]
     },
     "execution_count": 61,
     "metadata": {},
     "output_type": "execute_result"
    }
   ],
   "source": [
    "pipeline_linear.fit(X, y)"
   ]
  },
  {
   "cell_type": "code",
   "execution_count": 62,
   "metadata": {
    "collapsed": false
   },
   "outputs": [],
   "source": [
    "y_pred = pipeline_linear.predict(X)\n",
    "y_pred_test = pipeline_linear.predict(X_test)"
   ]
  },
  {
   "cell_type": "code",
   "execution_count": 63,
   "metadata": {
    "collapsed": false
   },
   "outputs": [
    {
     "name": "stdout",
     "output_type": "stream",
     "text": [
      "MAE train: 113.956924481\n",
      "R2 train: 0.553594630697\n",
      "\n",
      "MAE test: 116.310227481\n",
      "R2 test: 0.582924895153\n"
     ]
    }
   ],
   "source": [
    "print 'MAE train: ' + str(mean_absolute_error(y, y_pred))\n",
    "print 'R2 train: ' + str(r2_score(y, y_pred)) + '\\n'\n",
    "print 'MAE test: ' + str(mean_absolute_error(y_test, y_pred_test))\n",
    "print 'R2 test: ' + str(r2_score(y_test, y_pred_test))"
   ]
  },
  {
   "cell_type": "code",
   "execution_count": 64,
   "metadata": {
    "collapsed": false
   },
   "outputs": [
    {
     "data": {
      "text/plain": [
       "count    9999.000000\n",
       "mean      433.661422\n",
       "std       277.357322\n",
       "min        50.730000\n",
       "25%       250.000000\n",
       "50%       370.000000\n",
       "75%       550.000000\n",
       "max      5700.000000\n",
       "Name: price, dtype: float64"
      ]
     },
     "execution_count": 64,
     "metadata": {},
     "output_type": "execute_result"
    }
   ],
   "source": [
    "df.price.describe()"
   ]
  },
  {
   "cell_type": "code",
   "execution_count": 65,
   "metadata": {
    "collapsed": false
   },
   "outputs": [
    {
     "name": "stdout",
     "output_type": "stream",
     "text": [
      "MAE train: 113.685598841\n",
      "R2 train: 0.553091594384\n",
      "\n",
      "MAE test: 116.269947975\n",
      "R2 test: 0.581142064108\n"
     ]
    }
   ],
   "source": [
    "pipeline_sgd = Pipeline([('scale', scaler), ('sgd_regression', sgd_regressor)])\n",
    "pipeline_sgd.fit(X, y)\n",
    "\n",
    "y_pred = pipeline_sgd.predict(X)\n",
    "y_pred_test = pipeline_sgd.predict(X_test)\n",
    "\n",
    "print 'MAE train: ' + str(mean_absolute_error(y, y_pred))\n",
    "print 'R2 train: ' + str(r2_score(y, y_pred)) + '\\n'\n",
    "print 'MAE test: ' + str(mean_absolute_error(y_test, y_pred_test))\n",
    "print 'R2 test: ' + str(r2_score(y_test, y_pred_test))"
   ]
  },
  {
   "cell_type": "code",
   "execution_count": 66,
   "metadata": {
    "collapsed": false
   },
   "outputs": [
    {
     "name": "stdout",
     "output_type": "stream",
     "text": [
      "MAE train: 148.061142382\n",
      "R2 train: 0.500661137562\n",
      "\n",
      "MAE test: 151.622960146\n",
      "R2 test: 0.514435733071\n"
     ]
    }
   ],
   "source": [
    "ada_regressor = AdaBoostRegressor()\n",
    "pipeline_linear = Pipeline([('ada_regression', AdaBoostRegressor())])\n",
    "pipeline_linear.fit(X, y)\n",
    "\n",
    "y_pred = pipeline_linear.predict(X)\n",
    "y_pred_test = pipeline_linear.predict(X_test)\n",
    "\n",
    "print 'MAE train: ' + str(mean_absolute_error(y, y_pred))\n",
    "print 'R2 train: ' + str(r2_score(y, y_pred)) + '\\n'\n",
    "print 'MAE test: ' + str(mean_absolute_error(y_test, y_pred_test))\n",
    "print 'R2 test: ' + str(r2_score(y_test, y_pred_test))"
   ]
  },
  {
   "cell_type": "code",
   "execution_count": 84,
   "metadata": {
    "collapsed": false
   },
   "outputs": [],
   "source": [
    "X_df = df[['dow', 'para1', 'para2', 'para3', 'para4']]\n",
    "\n",
    "X_df = pd.concat([pd.get_dummies(X_df.dow), X_df], axis=1).drop('dow', axis=1)\n",
    "X, X_test, y, y_test = train_test_split(X_df.values, y_df.values)"
   ]
  },
  {
   "cell_type": "code",
   "execution_count": 85,
   "metadata": {
    "collapsed": false
   },
   "outputs": [
    {
     "name": "stdout",
     "output_type": "stream",
     "text": [
      "MAE train: 2284.08282485\n",
      "R2 train: -15569.7303293\n",
      "\n",
      "MAE test: 2583.17445615\n",
      "R2 test: -22579.8645474\n"
     ]
    }
   ],
   "source": [
    "pipeline_sgd = Pipeline([('scale', scaler), ('sgd_regression', sgd_regressor)])\n",
    "pipeline_sgd.fit(X, y)\n",
    "\n",
    "y_pred = pipeline_sgd.predict(X)\n",
    "y_pred_test = pipeline_sgd.predict(X_test)\n",
    "\n",
    "print 'MAE train: ' + str(mean_absolute_error(y, y_pred))\n",
    "print 'R2 train: ' + str(r2_score(y, y_pred)) + '\\n'\n",
    "print 'MAE test: ' + str(mean_absolute_error(y_test, y_pred_test))\n",
    "print 'R2 test: ' + str(r2_score(y_test, y_pred_test))"
   ]
  },
  {
   "cell_type": "code",
   "execution_count": 86,
   "metadata": {
    "collapsed": false
   },
   "outputs": [
    {
     "name": "stdout",
     "output_type": "stream",
     "text": [
      "MAE train: 1762.93208672\n",
      "R2 train: -126667.618582\n",
      "\n",
      "MAE test: 2568.52987055\n",
      "R2 test: -184367.098487\n"
     ]
    }
   ],
   "source": [
    "pipeline_linear = Pipeline([('scale', scaler), ('sgd_regression', sgd_regressor)])\n",
    "pipeline_linear.fit(X, y)\n",
    "\n",
    "y_pred = pipeline_linear.predict(X)\n",
    "y_pred_test = pipeline_linear.predict(X_test)\n",
    "\n",
    "print 'MAE train: ' + str(mean_absolute_error(y, y_pred))\n",
    "print 'R2 train: ' + str(r2_score(y, y_pred)) + '\\n'\n",
    "print 'MAE test: ' + str(mean_absolute_error(y_test, y_pred_test))\n",
    "print 'R2 test: ' + str(r2_score(y_test, y_pred_test))"
   ]
  },
  {
   "cell_type": "code",
   "execution_count": 87,
   "metadata": {
    "collapsed": false
   },
   "outputs": [
    {
     "name": "stdout",
     "output_type": "stream",
     "text": [
      "MAE train: 123.414860821\n",
      "R2 train: 0.6169923384\n",
      "\n",
      "MAE test: 126.542210964\n",
      "R2 test: 0.594377565194\n"
     ]
    }
   ],
   "source": [
    "ada_regressor = AdaBoostRegressor()\n",
    "pipeline_linear = Pipeline([('ada_regression', AdaBoostRegressor())])\n",
    "pipeline_linear.fit(X, y)\n",
    "\n",
    "y_pred = pipeline_linear.predict(X)\n",
    "y_pred_test = pipeline_linear.predict(X_test)\n",
    "\n",
    "print 'MAE train: ' + str(mean_absolute_error(y, y_pred))\n",
    "print 'R2 train: ' + str(r2_score(y, y_pred)) + '\\n'\n",
    "print 'MAE test: ' + str(mean_absolute_error(y_test, y_pred_test))\n",
    "print 'R2 test: ' + str(r2_score(y_test, y_pred_test))"
   ]
  },
  {
   "cell_type": "code",
   "execution_count": 80,
   "metadata": {
    "collapsed": false
   },
   "outputs": [
    {
     "data": {
      "text/plain": [
       "<matplotlib.axes._subplots.AxesSubplot at 0x7fc62d41b390>"
      ]
     },
     "execution_count": 80,
     "metadata": {},
     "output_type": "execute_result"
    },
    {
     "data": {
      "image/png": "[encoded data removed]",
      "text/plain": [
       "<matplotlib.figure.Figure at 0x7fc62d286490>"
      ]
     },
     "metadata": {},
     "output_type": "display_data"
    }
   ],
   "source": [
    "df.loc2 = df.loc2.str[1]\n",
    "sns.heatmap(df.groupby(['loc1', 'loc2']).price.mean().unstack())"
   ]
  },
  {
   "cell_type": "code",
   "execution_count": 82,
   "metadata": {
    "collapsed": false
   },
   "outputs": [
    {
     "data": {
      "text/plain": [
       "<matplotlib.axes._subplots.AxesSubplot at 0x7fc62d0325d0>"
      ]
     },
     "execution_count": 82,
     "metadata": {},
     "output_type": "execute_result"
    },
    {
     "data": {
      "image/png": "[encoded data removed]",
      "text/plain": [
       "<matplotlib.figure.Figure at 0x7fc62d0b76d0>"
      ]
     },
     "metadata": {},
     "output_type": "display_data"
    }
   ],
   "source": [
    "df_dropped_codes = df[df.loc1.isin(map(str, range(10))) & df.loc2.isin(map(str, range(10)))]\n",
    "sns.heatmap(df_dropped_codes.groupby(['loc1', 'loc2']).price.mean().unstack())"
   ]
  },
  {
   "cell_type": "code",
   "execution_count": 83,
   "metadata": {
    "collapsed": false
   },
   "outputs": [
    {
     "data": {
      "text/plain": [
       "7"
      ]
     },
     "execution_count": 83,
     "metadata": {},
     "output_type": "execute_result"
    }
   ],
   "source": [
    "len(df) - len(df_dropped_codes)"
   ]
  },
  {
   "cell_type": "code",
   "execution_count": 206,
   "metadata": {
    "collapsed": false
   },
   "outputs": [],
   "source": [
    "def bin_locs(df, bins=10):\n",
    "    _df = df.copy()\n",
    "    loc_codes = df_dropped_codes.groupby(['loc1', 'loc2']).price.mean().unstack()\n",
    "    bin_thresholds = np.percentile(loc_codes, np.linspace(0, 100, bins))\n",
    "\n",
    "    bin_thresholds = bin_thresholds.tolist()\n",
    "    \n",
    "    bin_thresholds.reverse()\n",
    "    \n",
    "    _df['loc_val'] = np.nan\n",
    "    for upper_threshold in bin_thresholds:\n",
    "        for i in range(10):\n",
    "            for j in range(10):\n",
    "                i = str(i)\n",
    "                j = str(j)\n",
    "                if loc_codes.loc[i][j] <= upper_threshold:\n",
    "                    _df['loc_val'][(_df.loc1 == i) & (_df.loc2 == j)] = upper_threshold\n",
    "    return _df"
   ]
  },
  {
   "cell_type": "code",
   "execution_count": 207,
   "metadata": {
    "collapsed": false
   },
   "outputs": [
    {
     "name": "stderr",
     "output_type": "stream",
     "text": [
      "/home/ryan/anaconda/lib/python2.7/site-packages/ipykernel/__main__.py:17: SettingWithCopyWarning: \n",
      "A value is trying to be set on a copy of a slice from a DataFrame\n",
      "\n",
      "See the caveats in the documentation: http://pandas.pydata.org/pandas-docs/stable/indexing.html#indexing-view-versus-copy\n"
     ]
    }
   ],
   "source": [
    "df_loc_val = bin_locs(df_dropped_codes)"
   ]
  },
  {
   "cell_type": "code",
   "execution_count": 208,
   "metadata": {
    "collapsed": false
   },
   "outputs": [],
   "source": [
    "X_df = df_loc_val[['loc_val', 'para1', 'para2', 'para3', 'para4']]\n",
    "y_df = df_loc_val['price']\n",
    "X, X_test, y, y_test = train_test_split(X_df.values, y_df.values)"
   ]
  },
  {
   "cell_type": "code",
   "execution_count": 209,
   "metadata": {
    "collapsed": false
   },
   "outputs": [
    {
     "name": "stdout",
     "output_type": "stream",
     "text": [
      "MAE train: 111.211093883\n",
      "R2 train: 0.57307476418\n",
      "\n",
      "MAE test: 118.846044244\n",
      "R2 test: 0.526634870794\n"
     ]
    }
   ],
   "source": [
    "pipeline_sgd = Pipeline([('scale', scaler), ('sgd_regression', sgd_regressor)])\n",
    "pipeline_sgd.fit(X, y)\n",
    "\n",
    "y_pred = pipeline_sgd.predict(X)\n",
    "y_pred_test = pipeline_sgd.predict(X_test)\n",
    "\n",
    "print 'MAE train: ' + str(mean_absolute_error(y, y_pred))\n",
    "print 'R2 train: ' + str(r2_score(y, y_pred)) + '\\n'\n",
    "print 'MAE test: ' + str(mean_absolute_error(y_test, y_pred_test))\n",
    "print 'R2 test: ' + str(r2_score(y_test, y_pred_test))"
   ]
  },
  {
   "cell_type": "code",
   "execution_count": 210,
   "metadata": {
    "collapsed": false
   },
   "outputs": [
    {
     "name": "stdout",
     "output_type": "stream",
     "text": [
      "MAE train: 162.019816607\n",
      "R2 train: 0.421626150695\n",
      "\n",
      "MAE test: 173.059624654\n",
      "R2 test: 0.381393775235\n"
     ]
    }
   ],
   "source": [
    "ada_regressor = AdaBoostRegressor()\n",
    "pipeline_linear = Pipeline([('ada_regression', AdaBoostRegressor())])\n",
    "pipeline_linear.fit(X, y)\n",
    "\n",
    "y_pred = pipeline_linear.predict(X)\n",
    "y_pred_test = pipeline_linear.predict(X_test)\n",
    "\n",
    "print 'MAE train: ' + str(mean_absolute_error(y, y_pred))\n",
    "print 'R2 train: ' + str(r2_score(y, y_pred)) + '\\n'\n",
    "print 'MAE test: ' + str(mean_absolute_error(y_test, y_pred_test))\n",
    "print 'R2 test: ' + str(r2_score(y_test, y_pred_test))"
   ]
  },
  {
   "cell_type": "code",
   "execution_count": null,
   "metadata": {
    "collapsed": true
   },
   "outputs": [],
   "source": []
  }
 ],
 "metadata": {
  "kernelspec": {
   "display_name": "Python 2",
   "language": "python",
   "name": "python2"
  },
  "language_info": {
   "codemirror_mode": {
    "name": "ipython",
    "version": 2
   },
   "file_extension": ".py",
   "mimetype": "text/x-python",
   "name": "python",
   "nbconvert_exporter": "python",
   "pygments_lexer": "ipython2",
   "version": "2.7.12"
  }
 },
 "nbformat": 4,
 "nbformat_minor": 1
}
